{
 "cells": [
  {
   "cell_type": "markdown",
   "id": "da1a8b8e",
   "metadata": {},
   "source": [
    "# 2) Dado a sequência de Fibonacci, onde se inicia por 0 e 1 e o próximo valor sempre será a soma dos 2 valores anteriores (exemplo: 0, 1, 1, 2, 3, 5, 8, 13, 21, 34...), escreva um programa na linguagem que desejar onde, informado um número, ele calcule a sequência de Fibonacci e retorne uma mensagem avisando se o número informado pertence ou não a sequência.\n",
    "\n",
    "IMPORTANTE:\n",
    "Esse número pode ser informado através de qualquer entrada de sua preferência ou pode ser previamente definido no código;\n"
   ]
  },
  {
   "cell_type": "code",
   "execution_count": 3,
   "id": "04e14647",
   "metadata": {},
   "outputs": [
    {
     "name": "stdout",
     "output_type": "stream",
     "text": [
      "Digite um número: 1\n",
      "O número 1 pertence à sequência de Fibonacci.\n"
     ]
    }
   ],
   "source": [
    "num = int(input(\"Digite um número: \"))\n",
    "\n",
    "# Inicializa a sequência de Fibonacci com os dois primeiros valores\n",
    "fibonacci = [0, 1]\n",
    "\n",
    "# Gera a sequência até encontrar um valor maior ou igual ao número informado\n",
    "while fibonacci[-1] < num:\n",
    "    fibonacci.append(fibonacci[-1] + fibonacci[-2])\n",
    "\n",
    "# Verifica se o número informado pertence à sequência\n",
    "if num in fibonacci:\n",
    "    print(f\"O número {num} pertence à sequência de Fibonacci.\")\n",
    "else:\n",
    "    print(f\"O número {num} não pertence à sequência de Fibonacci.\")"
   ]
  },
  {
   "cell_type": "markdown",
   "id": "8c90a05c",
   "metadata": {},
   "source": [
    "# 4) Dado o valor de faturamento mensal de uma distribuidora, detalhado por estado:\n",
    "\n",
    "SP – R$67.836,43\n",
    "RJ – R$36.678,66\n",
    "MG – R$29.229,88\n",
    "ES – R$27.165,48\n",
    "Outros – R$19.849,53\n",
    "\n",
    "Escreva um programa na linguagem que desejar onde calcule o percentual de representação que cada estado teve dentro do valor total mensal da distribuidora.\n",
    " "
   ]
  },
  {
   "cell_type": "code",
   "execution_count": 8,
   "id": "654442d5",
   "metadata": {},
   "outputs": [
    {
     "name": "stdout",
     "output_type": "stream",
     "text": [
      "SP: 37.53%\n",
      "RJ: 20.29%\n",
      "MG: 16.17%\n",
      "ES: 15.03%\n",
      "Outros: 10.98%\n"
     ]
    }
   ],
   "source": [
    "faturamento = {\n",
    "    'SP': 67836.43,\n",
    "    'RJ': 36678.66,\n",
    "    'MG': 29229.88,\n",
    "    'ES': 27165.48,\n",
    "    'Outros': 19849.53\n",
    "}\n",
    "\n",
    "# Cálculo do valor total mensal de faturamento\n",
    "total = sum(faturamento.values())\n",
    "\n",
    "# Cálculo do percentual de representação de cada estado\n",
    "percentuais = {estado: (valor / total) * 100 for estado, valor in faturamento.items()}\n",
    "\n",
    "# Impressão dos resultados\n",
    "for estado, percentual in percentuais.items():\n",
    "    print(f\"{estado}: {percentual:.2f}%\")"
   ]
  },
  {
   "cell_type": "markdown",
   "id": "3c961081",
   "metadata": {},
   "source": [
    "# 5) Escreva um programa que inverta os caracteres de um string.\n",
    "\n",
    "IMPORTANTE:\n",
    "a) Essa string pode ser informada através de qualquer entrada de sua preferência ou pode ser previamente definida no código;\n",
    "b) Evite usar funções prontas, como, por exemplo, reverse;\n"
   ]
  },
  {
   "cell_type": "code",
   "execution_count": 12,
   "id": "195e5bf8",
   "metadata": {},
   "outputs": [
    {
     "name": "stdout",
     "output_type": "stream",
     "text": [
      "!dlrow ,olleH\n"
     ]
    }
   ],
   "source": [
    "string = \"Hello, oportunidade!\"\n",
    "\n",
    "\n",
    "caracteres = list(string)\n",
    "\n",
    "\n",
    "for i in range(len(caracteres) // 2):\n",
    "    j = len(caracteres) - 1 - i\n",
    "    caracteres[i], caracteres[j] = caracteres[j], caracteres[i]\n",
    "\n",
    "string_invertida = ''.join(caracteres)\n",
    "\n",
    "print(string_invertida)\n",
    "\n",
    "\n",
    "\n",
    "\n",
    "\n"
   ]
  },
  {
   "cell_type": "code",
   "execution_count": null,
   "id": "9bacb442",
   "metadata": {},
   "outputs": [],
   "source": []
  }
 ],
 "metadata": {
  "kernelspec": {
   "display_name": "Python 3 (ipykernel)",
   "language": "python",
   "name": "python3"
  },
  "language_info": {
   "codemirror_mode": {
    "name": "ipython",
    "version": 3
   },
   "file_extension": ".py",
   "mimetype": "text/x-python",
   "name": "python",
   "nbconvert_exporter": "python",
   "pygments_lexer": "ipython3",
   "version": "3.9.13"
  }
 },
 "nbformat": 4,
 "nbformat_minor": 5
}
